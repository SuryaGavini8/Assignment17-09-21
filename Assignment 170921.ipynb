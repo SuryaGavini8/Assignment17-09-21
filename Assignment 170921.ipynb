{
 "cells": [
  {
   "cell_type": "code",
   "execution_count": 17,
   "id": "8093b234",
   "metadata": {},
   "outputs": [
    {
     "name": "stdout",
     "output_type": "stream",
     "text": [
      "enter pswd: surya\n",
      "please enter valid pswd\n",
      "enter pswd: A@a1\n",
      "valid pswd\n"
     ]
    }
   ],
   "source": [
    "#Entering the valid password\n",
    "lower_case = ['a','b','c','d','e']\n",
    "upper_case = [\"A\",\"B\",\"C\",\"D\",\"E\"]\n",
    "Number = [1,2,3,4,5]\n",
    "spl_chat =[\"@\",\"#\",\"$\"]\n",
    "while True:\n",
    "    pswd = input(\"enter pswd: \")\n",
    "    if i in (lower_case and upper_case and Number and spl_chat):\n",
    "        if i in pswd:\n",
    "            print(\"valid pswd\")\n",
    "            break\n",
    "        else:\n",
    "            print(\"please enter valid pswd\")\n"
   ]
  },
  {
   "cell_type": "code",
   "execution_count": null,
   "id": "0ea6118f",
   "metadata": {},
   "outputs": [],
   "source": [
    "#prime number finding\n",
    "for Num in range (1, 12):\n",
    "    count = 0\n",
    "    for i in range(2, (Num//2 + 1)):\n",
    "        if(Num % i == 0):\n",
    "            count = count + 1\n",
    "            break\n",
    "\n",
    "    if (count == 0 and Num != 1):\n",
    "        print(\" %d\" %Num, end = '  ')\n"
   ]
  },
  {
   "cell_type": "code",
   "execution_count": 2,
   "id": "d2f0ba45",
   "metadata": {},
   "outputs": [
    {
     "name": "stdout",
     "output_type": "stream",
     "text": [
      "a\n",
      "aa\n"
     ]
    }
   ],
   "source": [
    "#geting keys from values in dict\n",
    "d = {'a': 'Python', 'aa': 'Python', 'b': 'AI', 'c':'ML'}\n",
    "for k, v in d.items():\n",
    "    if v == 'Python':\n",
    "        print(k)"
   ]
  },
  {
   "cell_type": "code",
   "execution_count": 9,
   "id": "766a6c8e",
   "metadata": {},
   "outputs": [
    {
     "name": "stdout",
     "output_type": "stream",
     "text": [
      "Find sum of prime numbers upto : 12\n",
      "\n",
      "Sum of all prime numbers upto 12 : 26\n",
      "the sum is not prime\n"
     ]
    }
   ],
   "source": [
    "#Sum of prime number\n",
    "last_num = int(input(\"Find sum of prime numbers upto : \"))\n",
    "\n",
    "sum = 0\n",
    "\n",
    "for num in range(2, last_num + 1):\n",
    "\n",
    "    i = 2\n",
    "    \n",
    "    for i in range(2, num):\n",
    "        if (int(num % i) == 0):\n",
    "            i = num\n",
    "            break;\n",
    "\n",
    "    #If the number is prime then add it.\n",
    "    if i is not num:\n",
    "        sum += num\n",
    "\n",
    "print(\"\\nSum of all prime numbers upto\", last_num, \":\", sum)\n",
    "for i in range(2, (sum//2 + 1)):\n",
    "        if(sum % i == 0):\n",
    "            i=sum\n",
    "            print(\"the sum is not prime\")\n",
    "            break\n",
    "        else:\n",
    "            print(\"sum is prime\")\n"
   ]
  },
  {
   "cell_type": "code",
   "execution_count": null,
   "id": "5121ed68",
   "metadata": {},
   "outputs": [],
   "source": []
  }
 ],
 "metadata": {
  "kernelspec": {
   "display_name": "Python 3",
   "language": "python",
   "name": "python3"
  },
  "language_info": {
   "codemirror_mode": {
    "name": "ipython",
    "version": 3
   },
   "file_extension": ".py",
   "mimetype": "text/x-python",
   "name": "python",
   "nbconvert_exporter": "python",
   "pygments_lexer": "ipython3",
   "version": "3.8.8"
  }
 },
 "nbformat": 4,
 "nbformat_minor": 5
}
